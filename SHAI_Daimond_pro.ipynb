{
 "cells": [
  {
   "cell_type": "markdown",
   "id": "866e341b",
   "metadata": {},
   "source": [
    "# Importing libraries"
   ]
  },
  {
   "cell_type": "code",
   "execution_count": 1,
   "id": "c79bed71",
   "metadata": {},
   "outputs": [],
   "source": [
    "import pandas as pd\n",
    "import matplotlib.pyplot as plt\n",
    "import numpy as np\n",
    "import seaborn as sns\n",
    "from sklearn.metrics import mean_squared_error\n",
    "import warnings\n",
    "warnings.filterwarnings('ignore')\n",
    "from scipy import stats\n",
    "from scipy.stats import norm\n",
    "%matplotlib inline"
   ]
  },
  {
   "cell_type": "markdown",
   "id": "55caf49a",
   "metadata": {},
   "source": [
    "# Reading dataset"
   ]
  },
  {
   "cell_type": "code",
   "execution_count": 2,
   "id": "b576ab54",
   "metadata": {},
   "outputs": [],
   "source": [
    "train=pd.read_csv('train.csv')\n",
    "test=pd.read_csv('test.csv')\n"
   ]
  },
  {
   "cell_type": "markdown",
   "id": "82c7ea00",
   "metadata": {},
   "source": [
    "# Data  Exploration "
   ]
  },
  {
   "cell_type": "code",
   "execution_count": 3,
   "id": "24c50461",
   "metadata": {},
   "outputs": [
    {
     "data": {
      "text/html": [
       "<div>\n",
       "<style scoped>\n",
       "    .dataframe tbody tr th:only-of-type {\n",
       "        vertical-align: middle;\n",
       "    }\n",
       "\n",
       "    .dataframe tbody tr th {\n",
       "        vertical-align: top;\n",
       "    }\n",
       "\n",
       "    .dataframe thead th {\n",
       "        text-align: right;\n",
       "    }\n",
       "</style>\n",
       "<table border=\"1\" class=\"dataframe\">\n",
       "  <thead>\n",
       "    <tr style=\"text-align: right;\">\n",
       "      <th></th>\n",
       "      <th>Unnamed: 0</th>\n",
       "      <th>carat</th>\n",
       "      <th>cut</th>\n",
       "      <th>color</th>\n",
       "      <th>clarity</th>\n",
       "      <th>depth</th>\n",
       "      <th>table</th>\n",
       "      <th>price</th>\n",
       "      <th>x</th>\n",
       "      <th>y</th>\n",
       "      <th>z</th>\n",
       "    </tr>\n",
       "  </thead>\n",
       "  <tbody>\n",
       "    <tr>\n",
       "      <th>0</th>\n",
       "      <td>2</td>\n",
       "      <td>0.21</td>\n",
       "      <td>Premium</td>\n",
       "      <td>E</td>\n",
       "      <td>SI1</td>\n",
       "      <td>59.8</td>\n",
       "      <td>61.0</td>\n",
       "      <td>326</td>\n",
       "      <td>3.89</td>\n",
       "      <td>3.84</td>\n",
       "      <td>2.31</td>\n",
       "    </tr>\n",
       "    <tr>\n",
       "      <th>1</th>\n",
       "      <td>4</td>\n",
       "      <td>0.29</td>\n",
       "      <td>Premium</td>\n",
       "      <td>I</td>\n",
       "      <td>VS2</td>\n",
       "      <td>62.4</td>\n",
       "      <td>58.0</td>\n",
       "      <td>334</td>\n",
       "      <td>4.20</td>\n",
       "      <td>4.23</td>\n",
       "      <td>2.63</td>\n",
       "    </tr>\n",
       "    <tr>\n",
       "      <th>2</th>\n",
       "      <td>5</td>\n",
       "      <td>0.31</td>\n",
       "      <td>Good</td>\n",
       "      <td>J</td>\n",
       "      <td>SI2</td>\n",
       "      <td>63.3</td>\n",
       "      <td>58.0</td>\n",
       "      <td>335</td>\n",
       "      <td>4.34</td>\n",
       "      <td>4.35</td>\n",
       "      <td>2.75</td>\n",
       "    </tr>\n",
       "    <tr>\n",
       "      <th>3</th>\n",
       "      <td>6</td>\n",
       "      <td>0.24</td>\n",
       "      <td>Very Good</td>\n",
       "      <td>J</td>\n",
       "      <td>VVS2</td>\n",
       "      <td>62.8</td>\n",
       "      <td>57.0</td>\n",
       "      <td>336</td>\n",
       "      <td>3.94</td>\n",
       "      <td>3.96</td>\n",
       "      <td>2.48</td>\n",
       "    </tr>\n",
       "    <tr>\n",
       "      <th>4</th>\n",
       "      <td>7</td>\n",
       "      <td>0.24</td>\n",
       "      <td>Very Good</td>\n",
       "      <td>I</td>\n",
       "      <td>VVS1</td>\n",
       "      <td>62.3</td>\n",
       "      <td>57.0</td>\n",
       "      <td>336</td>\n",
       "      <td>3.95</td>\n",
       "      <td>3.98</td>\n",
       "      <td>2.47</td>\n",
       "    </tr>\n",
       "  </tbody>\n",
       "</table>\n",
       "</div>"
      ],
      "text/plain": [
       "   Unnamed: 0  carat        cut color clarity  depth  table  price     x  \\\n",
       "0           2   0.21    Premium     E     SI1   59.8   61.0    326  3.89   \n",
       "1           4   0.29    Premium     I     VS2   62.4   58.0    334  4.20   \n",
       "2           5   0.31       Good     J     SI2   63.3   58.0    335  4.34   \n",
       "3           6   0.24  Very Good     J    VVS2   62.8   57.0    336  3.94   \n",
       "4           7   0.24  Very Good     I    VVS1   62.3   57.0    336  3.95   \n",
       "\n",
       "      y     z  \n",
       "0  3.84  2.31  \n",
       "1  4.23  2.63  \n",
       "2  4.35  2.75  \n",
       "3  3.96  2.48  \n",
       "4  3.98  2.47  "
      ]
     },
     "execution_count": 3,
     "metadata": {},
     "output_type": "execute_result"
    }
   ],
   "source": [
    "train.head()"
   ]
  },
  {
   "cell_type": "code",
   "execution_count": 4,
   "id": "c98aa87d",
   "metadata": {},
   "outputs": [
    {
     "data": {
      "text/html": [
       "<div>\n",
       "<style scoped>\n",
       "    .dataframe tbody tr th:only-of-type {\n",
       "        vertical-align: middle;\n",
       "    }\n",
       "\n",
       "    .dataframe tbody tr th {\n",
       "        vertical-align: top;\n",
       "    }\n",
       "\n",
       "    .dataframe thead th {\n",
       "        text-align: right;\n",
       "    }\n",
       "</style>\n",
       "<table border=\"1\" class=\"dataframe\">\n",
       "  <thead>\n",
       "    <tr style=\"text-align: right;\">\n",
       "      <th></th>\n",
       "      <th>Unnamed: 0</th>\n",
       "      <th>carat</th>\n",
       "      <th>cut</th>\n",
       "      <th>color</th>\n",
       "      <th>clarity</th>\n",
       "      <th>depth</th>\n",
       "      <th>table</th>\n",
       "      <th>x</th>\n",
       "      <th>y</th>\n",
       "      <th>z</th>\n",
       "    </tr>\n",
       "  </thead>\n",
       "  <tbody>\n",
       "    <tr>\n",
       "      <th>0</th>\n",
       "      <td>1</td>\n",
       "      <td>0.23</td>\n",
       "      <td>Ideal</td>\n",
       "      <td>E</td>\n",
       "      <td>SI2</td>\n",
       "      <td>61.5</td>\n",
       "      <td>55.0</td>\n",
       "      <td>3.95</td>\n",
       "      <td>3.98</td>\n",
       "      <td>2.43</td>\n",
       "    </tr>\n",
       "    <tr>\n",
       "      <th>1</th>\n",
       "      <td>3</td>\n",
       "      <td>0.23</td>\n",
       "      <td>Good</td>\n",
       "      <td>E</td>\n",
       "      <td>VS1</td>\n",
       "      <td>56.9</td>\n",
       "      <td>65.0</td>\n",
       "      <td>4.05</td>\n",
       "      <td>4.07</td>\n",
       "      <td>2.31</td>\n",
       "    </tr>\n",
       "    <tr>\n",
       "      <th>2</th>\n",
       "      <td>8</td>\n",
       "      <td>0.26</td>\n",
       "      <td>Very Good</td>\n",
       "      <td>H</td>\n",
       "      <td>SI1</td>\n",
       "      <td>61.9</td>\n",
       "      <td>55.0</td>\n",
       "      <td>4.07</td>\n",
       "      <td>4.11</td>\n",
       "      <td>2.53</td>\n",
       "    </tr>\n",
       "    <tr>\n",
       "      <th>3</th>\n",
       "      <td>10</td>\n",
       "      <td>0.23</td>\n",
       "      <td>Very Good</td>\n",
       "      <td>H</td>\n",
       "      <td>VS1</td>\n",
       "      <td>59.4</td>\n",
       "      <td>61.0</td>\n",
       "      <td>4.00</td>\n",
       "      <td>4.05</td>\n",
       "      <td>2.39</td>\n",
       "    </tr>\n",
       "    <tr>\n",
       "      <th>4</th>\n",
       "      <td>12</td>\n",
       "      <td>0.23</td>\n",
       "      <td>Ideal</td>\n",
       "      <td>J</td>\n",
       "      <td>VS1</td>\n",
       "      <td>62.8</td>\n",
       "      <td>56.0</td>\n",
       "      <td>3.93</td>\n",
       "      <td>3.90</td>\n",
       "      <td>2.46</td>\n",
       "    </tr>\n",
       "  </tbody>\n",
       "</table>\n",
       "</div>"
      ],
      "text/plain": [
       "   Unnamed: 0  carat        cut color clarity  depth  table     x     y     z\n",
       "0           1   0.23      Ideal     E     SI2   61.5   55.0  3.95  3.98  2.43\n",
       "1           3   0.23       Good     E     VS1   56.9   65.0  4.05  4.07  2.31\n",
       "2           8   0.26  Very Good     H     SI1   61.9   55.0  4.07  4.11  2.53\n",
       "3          10   0.23  Very Good     H     VS1   59.4   61.0  4.00  4.05  2.39\n",
       "4          12   0.23      Ideal     J     VS1   62.8   56.0  3.93  3.90  2.46"
      ]
     },
     "execution_count": 4,
     "metadata": {},
     "output_type": "execute_result"
    }
   ],
   "source": [
    "test.head()"
   ]
  },
  {
   "cell_type": "code",
   "execution_count": 5,
   "id": "8be6a7e9",
   "metadata": {},
   "outputs": [
    {
     "data": {
      "text/plain": [
       "(43040, 11)"
      ]
     },
     "execution_count": 5,
     "metadata": {},
     "output_type": "execute_result"
    }
   ],
   "source": [
    "train.shape"
   ]
  },
  {
   "cell_type": "code",
   "execution_count": 6,
   "id": "d53cb867",
   "metadata": {},
   "outputs": [
    {
     "data": {
      "text/plain": [
       "(10900, 10)"
      ]
     },
     "execution_count": 6,
     "metadata": {},
     "output_type": "execute_result"
    }
   ],
   "source": [
    "test.shape"
   ]
  },
  {
   "cell_type": "code",
   "execution_count": 7,
   "id": "2e680057",
   "metadata": {},
   "outputs": [
    {
     "data": {
      "text/plain": [
       "\"train.drop('Unnamed: 0',axis=1,inplace=True)\\ntest.drop('Unnamed: 0',axis=1,inplace=True)\""
      ]
     },
     "execution_count": 7,
     "metadata": {},
     "output_type": "execute_result"
    }
   ],
   "source": [
    "'''train.drop('Unnamed: 0',axis=1,inplace=True)\n",
    "test.drop('Unnamed: 0',axis=1,inplace=True)'''"
   ]
  },
  {
   "cell_type": "code",
   "execution_count": 8,
   "id": "836d7414",
   "metadata": {},
   "outputs": [],
   "source": [
    "train.drop_duplicates(inplace=True)"
   ]
  },
  {
   "cell_type": "code",
   "execution_count": 9,
   "id": "a695d441",
   "metadata": {},
   "outputs": [
    {
     "data": {
      "text/plain": [
       "(43040, 11)"
      ]
     },
     "execution_count": 9,
     "metadata": {},
     "output_type": "execute_result"
    }
   ],
   "source": [
    "train.shape"
   ]
  },
  {
   "cell_type": "code",
   "execution_count": 10,
   "id": "1f23c9bc",
   "metadata": {},
   "outputs": [
    {
     "name": "stdout",
     "output_type": "stream",
     "text": [
      "<class 'pandas.core.frame.DataFrame'>\n",
      "Int64Index: 43040 entries, 0 to 43039\n",
      "Data columns (total 11 columns):\n",
      " #   Column      Non-Null Count  Dtype  \n",
      "---  ------      --------------  -----  \n",
      " 0   Unnamed: 0  43040 non-null  int64  \n",
      " 1   carat       43040 non-null  float64\n",
      " 2   cut         43040 non-null  object \n",
      " 3   color       43040 non-null  object \n",
      " 4   clarity     43040 non-null  object \n",
      " 5   depth       43040 non-null  float64\n",
      " 6   table       43040 non-null  float64\n",
      " 7   price       43040 non-null  int64  \n",
      " 8   x           43040 non-null  float64\n",
      " 9   y           43040 non-null  float64\n",
      " 10  z           43040 non-null  float64\n",
      "dtypes: float64(6), int64(2), object(3)\n",
      "memory usage: 3.9+ MB\n"
     ]
    }
   ],
   "source": [
    "train.info()"
   ]
  },
  {
   "cell_type": "code",
   "execution_count": 11,
   "id": "34637980",
   "metadata": {
    "scrolled": true
   },
   "outputs": [
    {
     "data": {
      "text/plain": [
       "Unnamed: 0    0\n",
       "carat         0\n",
       "cut           0\n",
       "color         0\n",
       "clarity       0\n",
       "depth         0\n",
       "table         0\n",
       "price         0\n",
       "x             0\n",
       "y             0\n",
       "z             0\n",
       "dtype: int64"
      ]
     },
     "execution_count": 11,
     "metadata": {},
     "output_type": "execute_result"
    }
   ],
   "source": [
    "train.isnull().sum()"
   ]
  },
  {
   "cell_type": "code",
   "execution_count": 12,
   "id": "89164619",
   "metadata": {},
   "outputs": [
    {
     "data": {
      "text/plain": [
       "Unnamed: 0      int64\n",
       "carat         float64\n",
       "cut            object\n",
       "color          object\n",
       "clarity        object\n",
       "depth         float64\n",
       "table         float64\n",
       "price           int64\n",
       "x             float64\n",
       "y             float64\n",
       "z             float64\n",
       "dtype: object"
      ]
     },
     "execution_count": 12,
     "metadata": {},
     "output_type": "execute_result"
    }
   ],
   "source": [
    "train.dtypes"
   ]
  },
  {
   "cell_type": "code",
   "execution_count": 13,
   "id": "5ae3a4f2",
   "metadata": {},
   "outputs": [
    {
     "data": {
      "text/html": [
       "<div>\n",
       "<style scoped>\n",
       "    .dataframe tbody tr th:only-of-type {\n",
       "        vertical-align: middle;\n",
       "    }\n",
       "\n",
       "    .dataframe tbody tr th {\n",
       "        vertical-align: top;\n",
       "    }\n",
       "\n",
       "    .dataframe thead th {\n",
       "        text-align: right;\n",
       "    }\n",
       "</style>\n",
       "<table border=\"1\" class=\"dataframe\">\n",
       "  <thead>\n",
       "    <tr style=\"text-align: right;\">\n",
       "      <th></th>\n",
       "      <th>Unnamed: 0</th>\n",
       "      <th>carat</th>\n",
       "      <th>depth</th>\n",
       "      <th>table</th>\n",
       "      <th>price</th>\n",
       "      <th>x</th>\n",
       "      <th>y</th>\n",
       "      <th>z</th>\n",
       "    </tr>\n",
       "  </thead>\n",
       "  <tbody>\n",
       "    <tr>\n",
       "      <th>count</th>\n",
       "      <td>43040.000000</td>\n",
       "      <td>43040.000000</td>\n",
       "      <td>43040.000000</td>\n",
       "      <td>43040.000000</td>\n",
       "      <td>43040.000000</td>\n",
       "      <td>43040.000000</td>\n",
       "      <td>43040.000000</td>\n",
       "      <td>43040.000000</td>\n",
       "    </tr>\n",
       "    <tr>\n",
       "      <th>mean</th>\n",
       "      <td>26758.804554</td>\n",
       "      <td>0.796964</td>\n",
       "      <td>61.746080</td>\n",
       "      <td>57.439542</td>\n",
       "      <td>3942.706343</td>\n",
       "      <td>5.724376</td>\n",
       "      <td>5.728122</td>\n",
       "      <td>3.534367</td>\n",
       "    </tr>\n",
       "    <tr>\n",
       "      <th>std</th>\n",
       "      <td>15484.904515</td>\n",
       "      <td>0.481455</td>\n",
       "      <td>1.435246</td>\n",
       "      <td>2.240196</td>\n",
       "      <td>4023.534556</td>\n",
       "      <td>1.132496</td>\n",
       "      <td>1.159641</td>\n",
       "      <td>0.714543</td>\n",
       "    </tr>\n",
       "    <tr>\n",
       "      <th>min</th>\n",
       "      <td>2.000000</td>\n",
       "      <td>0.200000</td>\n",
       "      <td>43.000000</td>\n",
       "      <td>43.000000</td>\n",
       "      <td>326.000000</td>\n",
       "      <td>0.000000</td>\n",
       "      <td>0.000000</td>\n",
       "      <td>0.000000</td>\n",
       "    </tr>\n",
       "    <tr>\n",
       "      <th>25%</th>\n",
       "      <td>13326.750000</td>\n",
       "      <td>0.380000</td>\n",
       "      <td>61.000000</td>\n",
       "      <td>56.000000</td>\n",
       "      <td>940.000000</td>\n",
       "      <td>4.660000</td>\n",
       "      <td>4.670000</td>\n",
       "      <td>2.870000</td>\n",
       "    </tr>\n",
       "    <tr>\n",
       "      <th>50%</th>\n",
       "      <td>26824.500000</td>\n",
       "      <td>0.710000</td>\n",
       "      <td>61.800000</td>\n",
       "      <td>57.000000</td>\n",
       "      <td>2388.000000</td>\n",
       "      <td>5.710000</td>\n",
       "      <td>5.720000</td>\n",
       "      <td>3.530000</td>\n",
       "    </tr>\n",
       "    <tr>\n",
       "      <th>75%</th>\n",
       "      <td>40290.250000</td>\n",
       "      <td>1.030000</td>\n",
       "      <td>62.500000</td>\n",
       "      <td>59.000000</td>\n",
       "      <td>5309.250000</td>\n",
       "      <td>6.500000</td>\n",
       "      <td>6.500000</td>\n",
       "      <td>4.020000</td>\n",
       "    </tr>\n",
       "    <tr>\n",
       "      <th>max</th>\n",
       "      <td>53940.000000</td>\n",
       "      <td>5.010000</td>\n",
       "      <td>79.000000</td>\n",
       "      <td>95.000000</td>\n",
       "      <td>18823.000000</td>\n",
       "      <td>10.740000</td>\n",
       "      <td>58.900000</td>\n",
       "      <td>31.800000</td>\n",
       "    </tr>\n",
       "  </tbody>\n",
       "</table>\n",
       "</div>"
      ],
      "text/plain": [
       "         Unnamed: 0         carat         depth         table         price  \\\n",
       "count  43040.000000  43040.000000  43040.000000  43040.000000  43040.000000   \n",
       "mean   26758.804554      0.796964     61.746080     57.439542   3942.706343   \n",
       "std    15484.904515      0.481455      1.435246      2.240196   4023.534556   \n",
       "min        2.000000      0.200000     43.000000     43.000000    326.000000   \n",
       "25%    13326.750000      0.380000     61.000000     56.000000    940.000000   \n",
       "50%    26824.500000      0.710000     61.800000     57.000000   2388.000000   \n",
       "75%    40290.250000      1.030000     62.500000     59.000000   5309.250000   \n",
       "max    53940.000000      5.010000     79.000000     95.000000  18823.000000   \n",
       "\n",
       "                  x             y             z  \n",
       "count  43040.000000  43040.000000  43040.000000  \n",
       "mean       5.724376      5.728122      3.534367  \n",
       "std        1.132496      1.159641      0.714543  \n",
       "min        0.000000      0.000000      0.000000  \n",
       "25%        4.660000      4.670000      2.870000  \n",
       "50%        5.710000      5.720000      3.530000  \n",
       "75%        6.500000      6.500000      4.020000  \n",
       "max       10.740000     58.900000     31.800000  "
      ]
     },
     "execution_count": 13,
     "metadata": {},
     "output_type": "execute_result"
    }
   ],
   "source": [
    "train.describe()"
   ]
  },
  {
   "cell_type": "code",
   "execution_count": null,
   "id": "aaf79368",
   "metadata": {},
   "outputs": [],
   "source": []
  },
  {
   "cell_type": "markdown",
   "id": "b5eb5808",
   "metadata": {},
   "source": [
    "we will to discover features that are type is object (cut , clarity , color)"
   ]
  },
  {
   "cell_type": "code",
   "execution_count": 14,
   "id": "f43d97b6",
   "metadata": {},
   "outputs": [
    {
     "data": {
      "text/plain": [
       "array(['Premium', 'Good', 'Very Good', 'Fair', 'Ideal'], dtype=object)"
      ]
     },
     "execution_count": 14,
     "metadata": {},
     "output_type": "execute_result"
    }
   ],
   "source": [
    "train['cut'].unique()"
   ]
  },
  {
   "cell_type": "code",
   "execution_count": 15,
   "id": "6689befc",
   "metadata": {},
   "outputs": [
    {
     "data": {
      "text/plain": [
       "Ideal        17424\n",
       "Premium      11031\n",
       "Very Good     9407\n",
       "Good          3910\n",
       "Fair          1268\n",
       "Name: cut, dtype: int64"
      ]
     },
     "execution_count": 15,
     "metadata": {},
     "output_type": "execute_result"
    }
   ],
   "source": [
    "train['cut'].value_counts()"
   ]
  },
  {
   "cell_type": "code",
   "execution_count": 16,
   "id": "a2cb8d58",
   "metadata": {},
   "outputs": [
    {
     "data": {
      "image/png": "[encoded data removed]",
      "text/plain": [
       "<Figure size 432x288 with 1 Axes>"
      ]
     },
     "metadata": {
      "needs_background": "light"
     },
     "output_type": "display_data"
    }
   ],
   "source": [
    "train[\"cut\"].value_counts().plot.barh();\n"
   ]
  },
  {
   "cell_type": "code",
   "execution_count": 17,
   "id": "fe0b8eb2",
   "metadata": {},
   "outputs": [
    {
     "data": {
      "text/plain": [
       "array(['SI1', 'VS2', 'SI2', 'VVS2', 'VVS1', 'I1', 'VS1', 'IF'],\n",
       "      dtype=object)"
      ]
     },
     "execution_count": 17,
     "metadata": {},
     "output_type": "execute_result"
    }
   ],
   "source": [
    "train['clarity'].unique()"
   ]
  },
  {
   "cell_type": "code",
   "execution_count": 18,
   "id": "d0abc08f",
   "metadata": {},
   "outputs": [
    {
     "data": {
      "text/plain": [
       "SI1     10363\n",
       "VS2      9981\n",
       "SI2      7380\n",
       "VS1      6479\n",
       "VVS2     3959\n",
       "VVS1     2838\n",
       "IF       1483\n",
       "I1        557\n",
       "Name: clarity, dtype: int64"
      ]
     },
     "execution_count": 18,
     "metadata": {},
     "output_type": "execute_result"
    }
   ],
   "source": [
    "train['clarity'].value_counts()"
   ]
  },
  {
   "cell_type": "code",
   "execution_count": 19,
   "id": "3b426daa",
   "metadata": {},
   "outputs": [
    {
     "data": {
      "image/png": "[encoded data removed]",
      "text/plain": [
       "<Figure size 432x288 with 1 Axes>"
      ]
     },
     "metadata": {
      "needs_background": "light"
     },
     "output_type": "display_data"
    }
   ],
   "source": [
    "train[\"clarity\"].value_counts().plot.barh();\n"
   ]
  },
  {
   "cell_type": "code",
   "execution_count": 20,
   "id": "869d5985",
   "metadata": {},
   "outputs": [
    {
     "data": {
      "text/plain": [
       "array(['E', 'I', 'J', 'F', 'H', 'D', 'G'], dtype=object)"
      ]
     },
     "execution_count": 20,
     "metadata": {},
     "output_type": "execute_result"
    }
   ],
   "source": [
    "train['color'].unique()"
   ]
  },
  {
   "cell_type": "code",
   "execution_count": 21,
   "id": "cefcdb49",
   "metadata": {},
   "outputs": [
    {
     "data": {
      "text/plain": [
       "G    9080\n",
       "E    7723\n",
       "F    7527\n",
       "H    6640\n",
       "D    5555\n",
       "I    4297\n",
       "J    2218\n",
       "Name: color, dtype: int64"
      ]
     },
     "execution_count": 21,
     "metadata": {},
     "output_type": "execute_result"
    }
   ],
   "source": [
    "train['color'].value_counts()"
   ]
  },
  {
   "cell_type": "code",
   "execution_count": 22,
   "id": "92af3f4b",
   "metadata": {},
   "outputs": [
    {
     "data": {
      "image/png": "[encoded data removed]",
      "text/plain": [
       "<Figure size 432x288 with 1 Axes>"
      ]
     },
     "metadata": {
      "needs_background": "light"
     },
     "output_type": "display_data"
    }
   ],
   "source": [
    "train[\"color\"].value_counts().plot.barh();\n"
   ]
  },
  {
   "cell_type": "code",
   "execution_count": null,
   "id": "18154a29",
   "metadata": {},
   "outputs": [],
   "source": []
  },
  {
   "cell_type": "markdown",
   "id": "38066a29",
   "metadata": {},
   "source": [
    "Based on the figures above:\n",
    "\n",
    "color: G, E, F are the most colors.\n",
    "\n",
    "cut: the most cut is ideal, follows it premium then very good.\n",
    "\n",
    "clarity: SI1, SI2, VS2 are the most clarity"
   ]
  },
  {
   "cell_type": "code",
   "execution_count": 23,
   "id": "288aa3f0",
   "metadata": {},
   "outputs": [
    {
     "data": {
      "image/png": "[encoded data removed]",
      "text/plain": [
       "<Figure size 1440x1080 with 9 Axes>"
      ]
     },
     "metadata": {
      "needs_background": "light"
     },
     "output_type": "display_data"
    }
   ],
   "source": [
    "train.hist(bins=50, figsize=(20,15));"
   ]
  },
  {
   "cell_type": "code",
   "execution_count": 24,
   "id": "1c9a6a64",
   "metadata": {},
   "outputs": [],
   "source": [
    "def pie(column):\n",
    "    labels=train[column].unique()\n",
    "    size=[]\n",
    "    for i in labels:\n",
    "        value=train[column].value_counts()[[i]]\n",
    "        size.append(int(value.values))\n",
    "    return labels,size"
   ]
  },
  {
   "cell_type": "code",
   "execution_count": 25,
   "id": "2fd37588",
   "metadata": {},
   "outputs": [
    {
     "data": {
      "image/png": "[encoded data removed]",
      "text/plain": [
       "<Figure size 432x288 with 1 Axes>"
      ]
     },
     "metadata": {},
     "output_type": "display_data"
    }
   ],
   "source": [
    "labels,sizes=pie('color')\n",
    "fig1, ax1 = plt.subplots()\n",
    "ax1.pie(x=sizes, labels=labels,shadow=True, startangle=90,autopct='%1.1f%%')\n",
    "ax1.axis('equal')\n",
    "plt.show()"
   ]
  },
  {
   "cell_type": "code",
   "execution_count": 26,
   "id": "f7c39d26",
   "metadata": {},
   "outputs": [
    {
     "data": {
      "image/png": "[encoded data removed]",
      "text/plain": [
       "<Figure size 432x288 with 1 Axes>"
      ]
     },
     "metadata": {},
     "output_type": "display_data"
    }
   ],
   "source": [
    "labels,sizes=pie('clarity')\n",
    "fig1, ax1 = plt.subplots()\n",
    "ax1.pie(x=sizes, labels=labels,shadow=True, startangle=90,autopct='%1.1f%%')\n",
    "ax1.axis('equal')\n",
    "plt.show()"
   ]
  },
  {
   "cell_type": "code",
   "execution_count": 27,
   "id": "503e6228",
   "metadata": {},
   "outputs": [
    {
     "data": {
      "image/png": "[encoded data removed]",
      "text/plain": [
       "<Figure size 432x288 with 1 Axes>"
      ]
     },
     "metadata": {},
     "output_type": "display_data"
    }
   ],
   "source": [
    "labels,sizes=pie('cut')\n",
    "fig1, ax1 = plt.subplots()\n",
    "ax1.pie(x=sizes, labels=labels,shadow=True, startangle=90,autopct='%1.1f%%')\n",
    "ax1.axis('equal')\n",
    "plt.show()"
   ]
  },
  {
   "cell_type": "code",
   "execution_count": null,
   "id": "04c7beee",
   "metadata": {},
   "outputs": [],
   "source": []
  },
  {
   "cell_type": "code",
   "execution_count": 28,
   "id": "b1ba65c2",
   "metadata": {},
   "outputs": [
    {
     "data": {
      "text/plain": [
       "<AxesSubplot:xlabel='clarity', ylabel='price'>"
      ]
     },
     "execution_count": 28,
     "metadata": {},
     "output_type": "execute_result"
    },
    {
     "data": {
      "image/png": "[encoded data removed]",
      "text/plain": [
       "<Figure size 432x288 with 1 Axes>"
      ]
     },
     "metadata": {
      "needs_background": "light"
     },
     "output_type": "display_data"
    }
   ],
   "source": [
    "sns.boxplot( x=train[\"clarity\"], y=train[\"price\"] )"
   ]
  },
  {
   "cell_type": "code",
   "execution_count": 29,
   "id": "6db72848",
   "metadata": {},
   "outputs": [
    {
     "data": {
      "text/plain": [
       "<AxesSubplot:xlabel='color', ylabel='price'>"
      ]
     },
     "execution_count": 29,
     "metadata": {},
     "output_type": "execute_result"
    },
    {
     "data": {
      "image/png": "[encoded data removed]",
      "text/plain": [
       "<Figure size 432x288 with 1 Axes>"
      ]
     },
     "metadata": {
      "needs_background": "light"
     },
     "output_type": "display_data"
    }
   ],
   "source": [
    "sns.boxplot( x=train[\"color\"], y=train[\"price\"] )"
   ]
  },
  {
   "cell_type": "code",
   "execution_count": 30,
   "id": "1acd2e4e",
   "metadata": {},
   "outputs": [
    {
     "data": {
      "text/plain": [
       "<AxesSubplot:xlabel='cut', ylabel='price'>"
      ]
     },
     "execution_count": 30,
     "metadata": {},
     "output_type": "execute_result"
    },
    {
     "data": {
      "image/png": "[encoded data removed]",
      "text/plain": [
       "<Figure size 432x288 with 1 Axes>"
      ]
     },
     "metadata": {
      "needs_background": "light"
     },
     "output_type": "display_data"
    }
   ],
   "source": [
    "sns.boxplot( x=train[\"cut\"], y=train[\"price\"] )"
   ]
  },
  {
   "cell_type": "code",
   "execution_count": 31,
   "id": "c0056c3f",
   "metadata": {},
   "outputs": [
    {
     "data": {
      "image/png": "[encoded data removed]",
      "text/plain": [
       "<Figure size 720x360 with 2 Axes>"
      ]
     },
     "metadata": {
      "needs_background": "light"
     },
     "output_type": "display_data"
    }
   ],
   "source": [
    "f, ax = plt.subplots(figsize=(10, 5))\n",
    "ax =sns.heatmap(train.corr(), annot=True, cmap='RdBu_r',)\n",
    "plt.show()"
   ]
  },
  {
   "cell_type": "code",
   "execution_count": null,
   "id": "e2711436",
   "metadata": {},
   "outputs": [],
   "source": []
  },
  {
   "cell_type": "markdown",
   "id": "504001cc",
   "metadata": {},
   "source": [
    "# Data Preparation for model"
   ]
  },
  {
   "cell_type": "code",
   "execution_count": 32,
   "id": "349875f8",
   "metadata": {},
   "outputs": [],
   "source": [
    "quality_map = {'Fair':1.0, 'Good':2.0, 'Very Good':3.0, 'Premium':4.0, 'Ideal':5.0}\n",
    "color_map = {'D':7.0, 'E':6.0, 'F':5.0, 'G':4.0, 'H':3.0,'I':2.0,'J':1.0}\n",
    "clarity_map = {'I1':1.0, 'SI2':2.0, 'SI1':3.0, 'VS2':4.0, 'VS1':5.0,'VVS2':6.0,'VVS1':7.0,'IF':8.0}\n",
    "\n",
    "train['cut'] = train.cut.map(quality_map)\n",
    "train['color'] = train.color.map(color_map)\n",
    "train['clarity'] = train.clarity.map(clarity_map)\n",
    "test['cut'] = test.cut.map(quality_map)\n",
    "test['color'] = test.color.map(color_map)\n",
    "test['clarity'] = test.clarity.map(clarity_map) "
   ]
  },
  {
   "cell_type": "code",
   "execution_count": 33,
   "id": "1a49722f",
   "metadata": {},
   "outputs": [
    {
     "data": {
      "text/html": [
       "<div>\n",
       "<style scoped>\n",
       "    .dataframe tbody tr th:only-of-type {\n",
       "        vertical-align: middle;\n",
       "    }\n",
       "\n",
       "    .dataframe tbody tr th {\n",
       "        vertical-align: top;\n",
       "    }\n",
       "\n",
       "    .dataframe thead th {\n",
       "        text-align: right;\n",
       "    }\n",
       "</style>\n",
       "<table border=\"1\" class=\"dataframe\">\n",
       "  <thead>\n",
       "    <tr style=\"text-align: right;\">\n",
       "      <th></th>\n",
       "      <th>Unnamed: 0</th>\n",
       "      <th>carat</th>\n",
       "      <th>cut</th>\n",
       "      <th>color</th>\n",
       "      <th>clarity</th>\n",
       "      <th>depth</th>\n",
       "      <th>table</th>\n",
       "      <th>price</th>\n",
       "      <th>x</th>\n",
       "      <th>y</th>\n",
       "      <th>z</th>\n",
       "    </tr>\n",
       "  </thead>\n",
       "  <tbody>\n",
       "    <tr>\n",
       "      <th>0</th>\n",
       "      <td>2</td>\n",
       "      <td>0.21</td>\n",
       "      <td>4.0</td>\n",
       "      <td>6.0</td>\n",
       "      <td>3.0</td>\n",
       "      <td>59.8</td>\n",
       "      <td>61.0</td>\n",
       "      <td>326</td>\n",
       "      <td>3.89</td>\n",
       "      <td>3.84</td>\n",
       "      <td>2.31</td>\n",
       "    </tr>\n",
       "    <tr>\n",
       "      <th>1</th>\n",
       "      <td>4</td>\n",
       "      <td>0.29</td>\n",
       "      <td>4.0</td>\n",
       "      <td>2.0</td>\n",
       "      <td>4.0</td>\n",
       "      <td>62.4</td>\n",
       "      <td>58.0</td>\n",
       "      <td>334</td>\n",
       "      <td>4.20</td>\n",
       "      <td>4.23</td>\n",
       "      <td>2.63</td>\n",
       "    </tr>\n",
       "    <tr>\n",
       "      <th>2</th>\n",
       "      <td>5</td>\n",
       "      <td>0.31</td>\n",
       "      <td>2.0</td>\n",
       "      <td>1.0</td>\n",
       "      <td>2.0</td>\n",
       "      <td>63.3</td>\n",
       "      <td>58.0</td>\n",
       "      <td>335</td>\n",
       "      <td>4.34</td>\n",
       "      <td>4.35</td>\n",
       "      <td>2.75</td>\n",
       "    </tr>\n",
       "    <tr>\n",
       "      <th>3</th>\n",
       "      <td>6</td>\n",
       "      <td>0.24</td>\n",
       "      <td>3.0</td>\n",
       "      <td>1.0</td>\n",
       "      <td>6.0</td>\n",
       "      <td>62.8</td>\n",
       "      <td>57.0</td>\n",
       "      <td>336</td>\n",
       "      <td>3.94</td>\n",
       "      <td>3.96</td>\n",
       "      <td>2.48</td>\n",
       "    </tr>\n",
       "    <tr>\n",
       "      <th>4</th>\n",
       "      <td>7</td>\n",
       "      <td>0.24</td>\n",
       "      <td>3.0</td>\n",
       "      <td>2.0</td>\n",
       "      <td>7.0</td>\n",
       "      <td>62.3</td>\n",
       "      <td>57.0</td>\n",
       "      <td>336</td>\n",
       "      <td>3.95</td>\n",
       "      <td>3.98</td>\n",
       "      <td>2.47</td>\n",
       "    </tr>\n",
       "  </tbody>\n",
       "</table>\n",
       "</div>"
      ],
      "text/plain": [
       "   Unnamed: 0  carat  cut  color  clarity  depth  table  price     x     y  \\\n",
       "0           2   0.21  4.0    6.0      3.0   59.8   61.0    326  3.89  3.84   \n",
       "1           4   0.29  4.0    2.0      4.0   62.4   58.0    334  4.20  4.23   \n",
       "2           5   0.31  2.0    1.0      2.0   63.3   58.0    335  4.34  4.35   \n",
       "3           6   0.24  3.0    1.0      6.0   62.8   57.0    336  3.94  3.96   \n",
       "4           7   0.24  3.0    2.0      7.0   62.3   57.0    336  3.95  3.98   \n",
       "\n",
       "      z  \n",
       "0  2.31  \n",
       "1  2.63  \n",
       "2  2.75  \n",
       "3  2.48  \n",
       "4  2.47  "
      ]
     },
     "execution_count": 33,
     "metadata": {},
     "output_type": "execute_result"
    }
   ],
   "source": [
    "train.head()"
   ]
  },
  {
   "cell_type": "code",
   "execution_count": null,
   "id": "79cf4770",
   "metadata": {},
   "outputs": [],
   "source": []
  },
  {
   "cell_type": "markdown",
   "id": "d34f671d",
   "metadata": {},
   "source": [
    "# dealing with outliers\n"
   ]
  },
  {
   "cell_type": "markdown",
   "id": "48eae815",
   "metadata": {},
   "source": [
    "outliers for training data"
   ]
  },
  {
   "cell_type": "code",
   "execution_count": 34,
   "id": "f4b84653",
   "metadata": {},
   "outputs": [],
   "source": [
    "def outliers_iqr(train, feat):\n",
    "    q25, q75 = np.percentile(train[feat], q=[25, 75])\n",
    "    iqr = q75 - q25\n",
    "    upp_lmt = q75 + iqr*1.45\n",
    "    lwr_lmt = q25 - iqr*1.45\n",
    "    return train[(train[feat] > upp_lmt) | (train[feat] < lwr_lmt)].index.to_list()"
   ]
  },
  {
   "cell_type": "code",
   "execution_count": 35,
   "id": "d0d2a9da",
   "metadata": {
    "scrolled": false
   },
   "outputs": [
    {
     "data": {
      "image/png": "[encoded data removed]",
      "text/plain": [
       "<Figure size 432x288 with 1 Axes>"
      ]
     },
     "metadata": {
      "needs_background": "light"
     },
     "output_type": "display_data"
    },
    {
     "data": {
      "image/png": "[encoded data removed]",
      "text/plain": [
       "<Figure size 432x288 with 1 Axes>"
      ]
     },
     "metadata": {
      "needs_background": "light"
     },
     "output_type": "display_data"
    }
   ],
   "source": [
    "sns.boxplot(x=train['carat'])\n",
    "plt.show()\n",
    "train.drop(outliers_iqr(train, 'carat'), inplace=True)\n",
    "\n",
    "sns.boxplot(x=train['carat'])\n",
    "\n",
    "plt.show()"
   ]
  },
  {
   "cell_type": "code",
   "execution_count": 36,
   "id": "0132e043",
   "metadata": {},
   "outputs": [
    {
     "data": {
      "image/png": "[encoded data removed]",
      "text/plain": [
       "<Figure size 432x288 with 1 Axes>"
      ]
     },
     "metadata": {
      "needs_background": "light"
     },
     "output_type": "display_data"
    },
    {
     "data": {
      "image/png": "[encoded data removed]",
      "text/plain": [
       "<Figure size 432x288 with 1 Axes>"
      ]
     },
     "metadata": {
      "needs_background": "light"
     },
     "output_type": "display_data"
    }
   ],
   "source": [
    "sns.boxplot(x=train['depth'])\n",
    "plt.show()\n",
    "train.drop(outliers_iqr(train, 'depth'), inplace=True)\n",
    "\n",
    "sns.boxplot(x=train['depth'])\n",
    "\n",
    "plt.show()"
   ]
  },
  {
   "cell_type": "code",
   "execution_count": 37,
   "id": "6a291cd0",
   "metadata": {},
   "outputs": [
    {
     "data": {
      "image/png": "[encoded data removed]",
      "text/plain": [
       "<Figure size 432x288 with 1 Axes>"
      ]
     },
     "metadata": {
      "needs_background": "light"
     },
     "output_type": "display_data"
    },
    {
     "data": {
      "image/png": "[encoded data removed]",
      "text/plain": [
       "<Figure size 432x288 with 1 Axes>"
      ]
     },
     "metadata": {
      "needs_background": "light"
     },
     "output_type": "display_data"
    }
   ],
   "source": [
    "sns.boxplot(x=train['table'])\n",
    "plt.show()\n",
    "train.drop(outliers_iqr(train, 'table'), inplace=True)\n",
    "\n",
    "sns.boxplot(x=train['table'])\n",
    "\n",
    "plt.show()"
   ]
  },
  {
   "cell_type": "code",
   "execution_count": 38,
   "id": "540d8e6f",
   "metadata": {},
   "outputs": [
    {
     "data": {
      "text/plain": [
       "(38505,)"
      ]
     },
     "execution_count": 38,
     "metadata": {},
     "output_type": "execute_result"
    }
   ],
   "source": [
    "train['table'].shape"
   ]
  },
  {
   "cell_type": "code",
   "execution_count": null,
   "id": "3ed9adc8",
   "metadata": {},
   "outputs": [],
   "source": []
  },
  {
   "cell_type": "code",
   "execution_count": 39,
   "id": "152616c3",
   "metadata": {},
   "outputs": [
    {
     "data": {
      "text/plain": [
       "<AxesSubplot:>"
      ]
     },
     "execution_count": 39,
     "metadata": {},
     "output_type": "execute_result"
    },
    {
     "data": {
      "image/png": "[encoded data removed]",
      "text/plain": [
       "<Figure size 432x288 with 1 Axes>"
      ]
     },
     "metadata": {
      "needs_background": "light"
     },
     "output_type": "display_data"
    }
   ],
   "source": [
    "sns.boxplot(data=train[[\"x\", \"y\" , 'z']], orient=\"h\" )"
   ]
  },
  {
   "cell_type": "code",
   "execution_count": 40,
   "id": "5cf49d2c",
   "metadata": {},
   "outputs": [],
   "source": [
    "train.loc[train[(train['z']==0)|(train['z']>15)].index,'z']=train['z'].median()\n",
    "train.loc[train[train['x']==0].index,'x']=train['x'].median()\n",
    "train.loc[train[(train['y']==0)|(train['y']>15)].index,'y']=train['y'].median()\n",
    "test.loc[test[(test['z']==0)|(test['z']>15)].index,'z']=test['z'].median()\n",
    "test.loc[test[test['x']==0].index,'x']=test['x'].median()\n",
    "test.loc[test[(test['y']==0)|(test['y']>15)].index,'y']=test['y'].median()"
   ]
  },
  {
   "cell_type": "code",
   "execution_count": 41,
   "id": "202d3c09",
   "metadata": {},
   "outputs": [],
   "source": [
    "train['size']=train['x']*train['y']*train['z']\n",
    "test['size']=test['x']*test['y']*test['z']\n",
    "train.drop(columns=['x','y','z'],axis=1,inplace=True)\n",
    "test.drop(columns=['x','y','z'],axis=1,inplace=True)"
   ]
  },
  {
   "cell_type": "code",
   "execution_count": 42,
   "id": "3cd72eca",
   "metadata": {},
   "outputs": [
    {
     "data": {
      "text/plain": [
       "<AxesSubplot:>"
      ]
     },
     "execution_count": 42,
     "metadata": {},
     "output_type": "execute_result"
    },
    {
     "data": {
      "image/png": "[encoded data removed]",
      "text/plain": [
       "<Figure size 432x288 with 1 Axes>"
      ]
     },
     "metadata": {
      "needs_background": "light"
     },
     "output_type": "display_data"
    }
   ],
   "source": [
    "sns.boxplot(data=train[['size']], orient=\"h\" )"
   ]
  },
  {
   "cell_type": "code",
   "execution_count": 43,
   "id": "4b15de07",
   "metadata": {},
   "outputs": [
    {
     "data": {
      "text/plain": [
       "Index(['Unnamed: 0', 'carat', 'cut', 'color', 'clarity', 'depth', 'table',\n",
       "       'price', 'size'],\n",
       "      dtype='object')"
      ]
     },
     "execution_count": 43,
     "metadata": {},
     "output_type": "execute_result"
    }
   ],
   "source": [
    "train.columns"
   ]
  },
  {
   "cell_type": "markdown",
   "id": "9207125e",
   "metadata": {},
   "source": [
    "# Split Data"
   ]
  },
  {
   "cell_type": "code",
   "execution_count": 44,
   "id": "0a0d1b00",
   "metadata": {},
   "outputs": [],
   "source": [
    "train_X = train.drop(\"price\", axis=1)\n",
    "train_y = np.log(train.price)"
   ]
  },
  {
   "cell_type": "code",
   "execution_count": 45,
   "id": "89bdbbec",
   "metadata": {},
   "outputs": [],
   "source": [
    "test_X=test.copy()\n",
    "test_y=pd.read_csv('y_true.csv').values"
   ]
  },
  {
   "cell_type": "code",
   "execution_count": 46,
   "id": "72119931",
   "metadata": {},
   "outputs": [
    {
     "data": {
      "text/plain": [
       "(10900, 1)"
      ]
     },
     "execution_count": 46,
     "metadata": {},
     "output_type": "execute_result"
    }
   ],
   "source": [
    "test_y.shape"
   ]
  },
  {
   "cell_type": "markdown",
   "id": "8913c7a4",
   "metadata": {},
   "source": [
    "# Apply xgboost"
   ]
  },
  {
   "cell_type": "code",
   "execution_count": 47,
   "id": "24611a44",
   "metadata": {},
   "outputs": [
    {
     "name": "stdout",
     "output_type": "stream",
     "text": [
      "RMSE is: \n",
      " 168.41958942074686\n"
     ]
    }
   ],
   "source": [
    "import xgboost as xgb\n",
    "from sklearn.metrics import mean_squared_error\n",
    "\n",
    "xg_reg = xgb.XGBRegressor(objective='reg:squarederror',learning_rate =0.01,n_estimators=2045, booster = 'gbtree', \n",
    "                                     max_depth=8,min_child_weight=10 ,base_score=0.8,\n",
    "                                     gamma=0.01, subsample=0.7,\n",
    "                                     colsample_bytree=0.7,nthread=4,reg_lambda=0.0571,\n",
    "                                     scale_pos_weight=1,seed=27, random_state=42,\n",
    "                                     reg_alpha=0.006)\n",
    "\n",
    "xg_reg.fit(train_X, train_y)\n",
    "\n",
    "preds = xg_reg.predict(test_X)\n",
    "print ('RMSE is: \\n', mean_squared_error(test_y, np.exp(preds),squared=False))  #490.26381431390087(without unnamed col)//130.59370086552389(with unnamed col)\n"
   ]
  },
  {
   "cell_type": "code",
   "execution_count": 48,
   "id": "751da6c3",
   "metadata": {},
   "outputs": [
    {
     "name": "stdout",
     "output_type": "stream",
     "text": [
      "RMSE is: \n",
      " 412.9889868420923\n"
     ]
    }
   ],
   "source": [
    "from sklearn.ensemble import RandomForestRegressor\n",
    "rf = RandomForestRegressor()\n",
    "rf = RandomForestRegressor(n_estimators=2000,\n",
    "                         min_samples_split=10,\n",
    "                         min_samples_leaf=4,\n",
    "                        max_features = 'sqrt',\n",
    "                        max_depth=100,\n",
    "                          bootstrap=False,\n",
    "                           random_state=42)\n",
    "\n",
    "rf.fit(train_X,train_y)\n",
    "\n",
    "preds = rf.predict(test_X)\n",
    "print ('RMSE is: \\n', mean_squared_error(test_y, np.exp(preds),squared=False))# 340.3973811181054(depth=10)\n"
   ]
  },
  {
   "cell_type": "code",
   "execution_count": 49,
   "id": "82434694",
   "metadata": {},
   "outputs": [
    {
     "name": "stdout",
     "output_type": "stream",
     "text": [
      "RMSE is: \n",
      " 48.93241691849692\n"
     ]
    }
   ],
   "source": [
    "from sklearn.tree import DecisionTreeRegressor\n",
    "\n",
    "DT=DecisionTreeRegressor(max_depth=10)\n",
    "\n",
    "DT.fit(train_X,train_y)\n",
    "\n",
    "preds = DT.predict(test_X)\n",
    "print ('RMSE is: \\n', mean_squared_error(test_y, np.exp(preds),squared=False))"
   ]
  },
  {
   "cell_type": "code",
   "execution_count": null,
   "id": "01c8dd87",
   "metadata": {},
   "outputs": [],
   "source": []
  },
  {
   "cell_type": "code",
   "execution_count": 50,
   "id": "2eb2ecc3",
   "metadata": {},
   "outputs": [],
   "source": [
    "testing = pd.read_csv(\"test.csv\")"
   ]
  },
  {
   "cell_type": "code",
   "execution_count": 51,
   "id": "9085dd30",
   "metadata": {},
   "outputs": [],
   "source": [
    "sub = pd.DataFrame()\n",
    "sub['Unnamed: 0'] = testing['Unnamed: 0']\n",
    "sub['price'] = np.exp(preds)\n",
    "sub.to_csv('submissionj.csv',index=False)"
   ]
  },
  {
   "cell_type": "code",
   "execution_count": null,
   "id": "48573785",
   "metadata": {},
   "outputs": [],
   "source": []
  }
 ],
 "metadata": {
  "kernelspec": {
   "display_name": "Python 3 (ipykernel)",
   "language": "python",
   "name": "python3"
  },
  "language_info": {
   "codemirror_mode": {
    "name": "ipython",
    "version": 3
   },
   "file_extension": ".py",
   "mimetype": "text/x-python",
   "name": "python",
   "nbconvert_exporter": "python",
   "pygments_lexer": "ipython3",
   "version": "3.9.7"
  }
 },
 "nbformat": 4,
 "nbformat_minor": 5
}
